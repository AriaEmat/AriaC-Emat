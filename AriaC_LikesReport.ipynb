{
 "cells": [
  {
   "cell_type": "markdown",
   "id": "b9d59274-028e-41ce-b8c2-80635654c0cd",
   "metadata": {},
   "source": [
    "# Likes report by Aria C"
   ]
  },
  {
   "cell_type": "markdown",
   "id": "627fe6e6-89b7-4263-84dc-e643fe717d35",
   "metadata": {},
   "source": [
    "## Section 1\n",
    "By Aria Culpepper <br>\n",
    "9/10/25 <br>\n",
    "Source of information - My own instagram <br>\n",
    "Purpose - I wanted to see my own information and see if it matches my own view of how it will turn out. The previously mentioned data could be analyzed to see what i was into and where i was at set points in time. <br>\n",
    "Ways it's Reliable - Due to my account not being touched by other people - Other than me and the people who obtained it -  it has had little influence that could mess with the data. <br>\n",
    "Why its Unreliable - Depending on how the select the information, it could be inaccurate or out of date."
   ]
  },
  {
   "cell_type": "markdown",
   "id": "921dcbb5-9d2f-4a75-9a30-f130dc6e32ec",
   "metadata": {},
   "source": [
    "## Start of Section 2 - Load File"
   ]
  },
  {
   "cell_type": "markdown",
   "id": "c4d740e4-0e9a-431a-baca-734b0c078866",
   "metadata": {},
   "source": [
    "Import Programs for later"
   ]
  },
  {
   "cell_type": "code",
   "execution_count": 39,
   "id": "79b57581-d934-4965-ada2-e1a7e43e3e07",
   "metadata": {},
   "outputs": [],
   "source": [
    "import json\n",
    "import pandas as pd\n",
    "import matplotlib as plt\n"
   ]
  },
  {
   "cell_type": "code",
   "execution_count": 2,
   "id": "a9c9fc0b-a031-4635-a0d3-7e82f32639fe",
   "metadata": {},
   "outputs": [],
   "source": [
    "path = r\"C:\\Users\\xxzep\\OneDrive\\Desktop\\instagram-ariariariami-2025-08-25-nNvQWrZw\\your_instagram_activity\\likes\\liked_posts.json\"\n",
    "with open(path) as j:\n",
    "    dict = json.load(j)"
   ]
  },
  {
   "cell_type": "markdown",
   "id": "86d46946-265c-4c93-9082-621aaea7bd85",
   "metadata": {},
   "source": [
    "## Start of Section 3 - Convert data"
   ]
  },
  {
   "cell_type": "code",
   "execution_count": 3,
   "id": "9a27bf04-ea07-441d-8d05-3c011f7e4dcf",
   "metadata": {},
   "outputs": [
    {
     "data": {
      "text/html": [
       "<div>\n",
       "<style scoped>\n",
       "    .dataframe tbody tr th:only-of-type {\n",
       "        vertical-align: middle;\n",
       "    }\n",
       "\n",
       "    .dataframe tbody tr th {\n",
       "        vertical-align: top;\n",
       "    }\n",
       "\n",
       "    .dataframe thead th {\n",
       "        text-align: right;\n",
       "    }\n",
       "</style>\n",
       "<table border=\"1\" class=\"dataframe\">\n",
       "  <thead>\n",
       "    <tr style=\"text-align: right;\">\n",
       "      <th></th>\n",
       "      <th>likes_media_likes</th>\n",
       "    </tr>\n",
       "  </thead>\n",
       "  <tbody>\n",
       "    <tr>\n",
       "      <th>0</th>\n",
       "      <td>{'title': 'alysaxliu', 'string_list_data': [{'...</td>\n",
       "    </tr>\n",
       "    <tr>\n",
       "      <th>1</th>\n",
       "      <td>{'title': 'tomisonline_', 'string_list_data': ...</td>\n",
       "    </tr>\n",
       "    <tr>\n",
       "      <th>2</th>\n",
       "      <td>{'title': 'bigglowmuvva', 'string_list_data': ...</td>\n",
       "    </tr>\n",
       "    <tr>\n",
       "      <th>3</th>\n",
       "      <td>{'title': 'imclarakim', 'string_list_data': [{...</td>\n",
       "    </tr>\n",
       "    <tr>\n",
       "      <th>4</th>\n",
       "      <td>{'title': 'piki__official', 'string_list_data'...</td>\n",
       "    </tr>\n",
       "  </tbody>\n",
       "</table>\n",
       "</div>"
      ],
      "text/plain": [
       "                                   likes_media_likes\n",
       "0  {'title': 'alysaxliu', 'string_list_data': [{'...\n",
       "1  {'title': 'tomisonline_', 'string_list_data': ...\n",
       "2  {'title': 'bigglowmuvva', 'string_list_data': ...\n",
       "3  {'title': 'imclarakim', 'string_list_data': [{...\n",
       "4  {'title': 'piki__official', 'string_list_data'..."
      ]
     },
     "execution_count": 3,
     "metadata": {},
     "output_type": "execute_result"
    }
   ],
   "source": [
    "df = pd.DataFrame(dict)\n",
    "df.head()"
   ]
  },
  {
   "cell_type": "code",
   "execution_count": 4,
   "id": "12aba4cb-acac-4287-9fe3-ed1a30d78cd7",
   "metadata": {},
   "outputs": [
    {
     "data": {
      "text/plain": [
       "dict_keys(['likes_media_likes'])"
      ]
     },
     "execution_count": 4,
     "metadata": {},
     "output_type": "execute_result"
    }
   ],
   "source": [
    "dict.keys()\n"
   ]
  },
  {
   "cell_type": "code",
   "execution_count": 5,
   "id": "9cb09200-8d5d-47f4-9e80-23a8acc25747",
   "metadata": {},
   "outputs": [
    {
     "data": {
      "text/html": [
       "<div>\n",
       "<style scoped>\n",
       "    .dataframe tbody tr th:only-of-type {\n",
       "        vertical-align: middle;\n",
       "    }\n",
       "\n",
       "    .dataframe tbody tr th {\n",
       "        vertical-align: top;\n",
       "    }\n",
       "\n",
       "    .dataframe thead th {\n",
       "        text-align: right;\n",
       "    }\n",
       "</style>\n",
       "<table border=\"1\" class=\"dataframe\">\n",
       "  <thead>\n",
       "    <tr style=\"text-align: right;\">\n",
       "      <th></th>\n",
       "      <th>title</th>\n",
       "      <th>string_list_data</th>\n",
       "    </tr>\n",
       "  </thead>\n",
       "  <tbody>\n",
       "    <tr>\n",
       "      <th>0</th>\n",
       "      <td>alysaxliu</td>\n",
       "      <td>[{'href': 'https://www.instagram.com/p/DNyPtSL...</td>\n",
       "    </tr>\n",
       "    <tr>\n",
       "      <th>1</th>\n",
       "      <td>tomisonline_</td>\n",
       "      <td>[{'href': 'https://www.instagram.com/p/DNxrNWB...</td>\n",
       "    </tr>\n",
       "    <tr>\n",
       "      <th>2</th>\n",
       "      <td>bigglowmuvva</td>\n",
       "      <td>[{'href': 'https://www.instagram.com/reel/DM8b...</td>\n",
       "    </tr>\n",
       "    <tr>\n",
       "      <th>3</th>\n",
       "      <td>imclarakim</td>\n",
       "      <td>[{'href': 'https://www.instagram.com/reel/DNo6...</td>\n",
       "    </tr>\n",
       "    <tr>\n",
       "      <th>4</th>\n",
       "      <td>piki__official</td>\n",
       "      <td>[{'href': 'https://www.instagram.com/reel/DNsm...</td>\n",
       "    </tr>\n",
       "  </tbody>\n",
       "</table>\n",
       "</div>"
      ],
      "text/plain": [
       "            title                                   string_list_data\n",
       "0       alysaxliu  [{'href': 'https://www.instagram.com/p/DNyPtSL...\n",
       "1    tomisonline_  [{'href': 'https://www.instagram.com/p/DNxrNWB...\n",
       "2    bigglowmuvva  [{'href': 'https://www.instagram.com/reel/DM8b...\n",
       "3      imclarakim  [{'href': 'https://www.instagram.com/reel/DNo6...\n",
       "4  piki__official  [{'href': 'https://www.instagram.com/reel/DNsm..."
      ]
     },
     "execution_count": 5,
     "metadata": {},
     "output_type": "execute_result"
    }
   ],
   "source": [
    "df_tidy = pd.DataFrame(dict['likes_media_likes'])\n",
    "df_tidy.head()"
   ]
  },
  {
   "cell_type": "markdown",
   "id": "db8ef318-40c6-4a01-92e5-0750fa764604",
   "metadata": {},
   "source": [
    "## Start of Section 4 -  "
   ]
  },
  {
   "cell_type": "code",
   "execution_count": 6,
   "id": "db544b23-db64-44d8-9a3e-8492aaf51f4a",
   "metadata": {},
   "outputs": [
    {
     "data": {
      "text/plain": [
       "[{'href': 'https://www.instagram.com/p/DNyPtSLUlSz/',\n",
       "  'value': 'ð\\x9f\\x91\\x8d',\n",
       "  'timestamp': 1756145925}]"
      ]
     },
     "execution_count": 6,
     "metadata": {},
     "output_type": "execute_result"
    }
   ],
   "source": [
    "df_tidy['string_list_data'].iloc[0]"
   ]
  },
  {
   "cell_type": "code",
   "execution_count": 7,
   "id": "2aff0fb5-936f-4d28-8a29-67e06bb15e0e",
   "metadata": {},
   "outputs": [
    {
     "data": {
      "text/plain": [
       "list"
      ]
     },
     "execution_count": 7,
     "metadata": {},
     "output_type": "execute_result"
    }
   ],
   "source": [
    "type(df_tidy['string_list_data'].iloc[0])"
   ]
  },
  {
   "cell_type": "code",
   "execution_count": 8,
   "id": "26533026-f28d-40f7-b85c-4e30244e02b2",
   "metadata": {},
   "outputs": [
    {
     "data": {
      "text/plain": [
       "1"
      ]
     },
     "execution_count": 8,
     "metadata": {},
     "output_type": "execute_result"
    }
   ],
   "source": [
    "len(df_tidy['string_list_data'].iloc[0])"
   ]
  },
  {
   "cell_type": "code",
   "execution_count": 9,
   "id": "b8c07a10-2191-48c6-b6f4-5bf86a3505e4",
   "metadata": {},
   "outputs": [
    {
     "data": {
      "text/plain": [
       "{'href': 'https://www.instagram.com/p/DNyPtSLUlSz/',\n",
       " 'value': 'ð\\x9f\\x91\\x8d',\n",
       " 'timestamp': 1756145925}"
      ]
     },
     "execution_count": 9,
     "metadata": {},
     "output_type": "execute_result"
    }
   ],
   "source": [
    "df_tidy['string_list_data'].iloc[0][0]"
   ]
  },
  {
   "cell_type": "code",
   "execution_count": 10,
   "id": "aa046532-d577-463a-b5b9-63528d230dea",
   "metadata": {},
   "outputs": [
    {
     "data": {
      "text/plain": [
       "1756145925"
      ]
     },
     "execution_count": 10,
     "metadata": {},
     "output_type": "execute_result"
    }
   ],
   "source": [
    "df_tidy['string_list_data'].iloc[0][0]['timestamp']"
   ]
  },
  {
   "cell_type": "markdown",
   "id": "a4adaab8-73fc-45ae-8b64-9e6b777dad85",
   "metadata": {},
   "source": [
    "create a new collum and change"
   ]
  },
  {
   "cell_type": "code",
   "execution_count": 11,
   "id": "c309ce50-9519-44cc-a678-1a9bdc397f4e",
   "metadata": {},
   "outputs": [
    {
     "data": {
      "text/html": [
       "<div>\n",
       "<style scoped>\n",
       "    .dataframe tbody tr th:only-of-type {\n",
       "        vertical-align: middle;\n",
       "    }\n",
       "\n",
       "    .dataframe tbody tr th {\n",
       "        vertical-align: top;\n",
       "    }\n",
       "\n",
       "    .dataframe thead th {\n",
       "        text-align: right;\n",
       "    }\n",
       "</style>\n",
       "<table border=\"1\" class=\"dataframe\">\n",
       "  <thead>\n",
       "    <tr style=\"text-align: right;\">\n",
       "      <th></th>\n",
       "      <th>title</th>\n",
       "      <th>string_list_data</th>\n",
       "      <th>Time of Like</th>\n",
       "    </tr>\n",
       "  </thead>\n",
       "  <tbody>\n",
       "    <tr>\n",
       "      <th>0</th>\n",
       "      <td>alysaxliu</td>\n",
       "      <td>[{'href': 'https://www.instagram.com/p/DNyPtSL...</td>\n",
       "      <td>1756145925</td>\n",
       "    </tr>\n",
       "    <tr>\n",
       "      <th>1</th>\n",
       "      <td>tomisonline_</td>\n",
       "      <td>[{'href': 'https://www.instagram.com/p/DNxrNWB...</td>\n",
       "      <td>1756134231</td>\n",
       "    </tr>\n",
       "    <tr>\n",
       "      <th>2</th>\n",
       "      <td>bigglowmuvva</td>\n",
       "      <td>[{'href': 'https://www.instagram.com/reel/DM8b...</td>\n",
       "      <td>1756130468</td>\n",
       "    </tr>\n",
       "    <tr>\n",
       "      <th>3</th>\n",
       "      <td>imclarakim</td>\n",
       "      <td>[{'href': 'https://www.instagram.com/reel/DNo6...</td>\n",
       "      <td>1756130328</td>\n",
       "    </tr>\n",
       "    <tr>\n",
       "      <th>4</th>\n",
       "      <td>piki__official</td>\n",
       "      <td>[{'href': 'https://www.instagram.com/reel/DNsm...</td>\n",
       "      <td>1756129866</td>\n",
       "    </tr>\n",
       "  </tbody>\n",
       "</table>\n",
       "</div>"
      ],
      "text/plain": [
       "            title                                   string_list_data  \\\n",
       "0       alysaxliu  [{'href': 'https://www.instagram.com/p/DNyPtSL...   \n",
       "1    tomisonline_  [{'href': 'https://www.instagram.com/p/DNxrNWB...   \n",
       "2    bigglowmuvva  [{'href': 'https://www.instagram.com/reel/DM8b...   \n",
       "3      imclarakim  [{'href': 'https://www.instagram.com/reel/DNo6...   \n",
       "4  piki__official  [{'href': 'https://www.instagram.com/reel/DNsm...   \n",
       "\n",
       "   Time of Like  \n",
       "0    1756145925  \n",
       "1    1756134231  \n",
       "2    1756130468  \n",
       "3    1756130328  \n",
       "4    1756129866  "
      ]
     },
     "execution_count": 11,
     "metadata": {},
     "output_type": "execute_result"
    }
   ],
   "source": [
    "df_tidy['Time of Like'] = [i[0]['timestamp'] for i in df_tidy['string_list_data'] ]\n",
    "\n",
    "df_tidy.head()"
   ]
  },
  {
   "cell_type": "code",
   "execution_count": 12,
   "id": "66620f59-fcf5-436c-8cc5-4dfb2d56a675",
   "metadata": {},
   "outputs": [],
   "source": [
    "\n",
    "from datetime import datetime\n"
   ]
  },
  {
   "cell_type": "code",
   "execution_count": 13,
   "id": "ae0b2121-a027-41ff-8250-c2fa0586bc47",
   "metadata": {},
   "outputs": [],
   "source": [
    "df_tidy['Date of Like'] = [ datetime.fromtimestamp(i[0]['timestamp'] ) for i in df_tidy['string_list_data'] ]"
   ]
  },
  {
   "cell_type": "code",
   "execution_count": 14,
   "id": "7064282b-6776-41b2-b698-67d9e7e5b045",
   "metadata": {},
   "outputs": [
    {
     "data": {
      "text/html": [
       "<div>\n",
       "<style scoped>\n",
       "    .dataframe tbody tr th:only-of-type {\n",
       "        vertical-align: middle;\n",
       "    }\n",
       "\n",
       "    .dataframe tbody tr th {\n",
       "        vertical-align: top;\n",
       "    }\n",
       "\n",
       "    .dataframe thead th {\n",
       "        text-align: right;\n",
       "    }\n",
       "</style>\n",
       "<table border=\"1\" class=\"dataframe\">\n",
       "  <thead>\n",
       "    <tr style=\"text-align: right;\">\n",
       "      <th></th>\n",
       "      <th>title</th>\n",
       "      <th>string_list_data</th>\n",
       "      <th>Time of Like</th>\n",
       "      <th>Date of Like</th>\n",
       "    </tr>\n",
       "  </thead>\n",
       "  <tbody>\n",
       "    <tr>\n",
       "      <th>0</th>\n",
       "      <td>alysaxliu</td>\n",
       "      <td>[{'href': 'https://www.instagram.com/p/DNyPtSL...</td>\n",
       "      <td>1756145925</td>\n",
       "      <td>2025-08-25 14:18:45</td>\n",
       "    </tr>\n",
       "    <tr>\n",
       "      <th>1</th>\n",
       "      <td>tomisonline_</td>\n",
       "      <td>[{'href': 'https://www.instagram.com/p/DNxrNWB...</td>\n",
       "      <td>1756134231</td>\n",
       "      <td>2025-08-25 11:03:51</td>\n",
       "    </tr>\n",
       "    <tr>\n",
       "      <th>2</th>\n",
       "      <td>bigglowmuvva</td>\n",
       "      <td>[{'href': 'https://www.instagram.com/reel/DM8b...</td>\n",
       "      <td>1756130468</td>\n",
       "      <td>2025-08-25 10:01:08</td>\n",
       "    </tr>\n",
       "    <tr>\n",
       "      <th>3</th>\n",
       "      <td>imclarakim</td>\n",
       "      <td>[{'href': 'https://www.instagram.com/reel/DNo6...</td>\n",
       "      <td>1756130328</td>\n",
       "      <td>2025-08-25 09:58:48</td>\n",
       "    </tr>\n",
       "    <tr>\n",
       "      <th>4</th>\n",
       "      <td>piki__official</td>\n",
       "      <td>[{'href': 'https://www.instagram.com/reel/DNsm...</td>\n",
       "      <td>1756129866</td>\n",
       "      <td>2025-08-25 09:51:06</td>\n",
       "    </tr>\n",
       "  </tbody>\n",
       "</table>\n",
       "</div>"
      ],
      "text/plain": [
       "            title                                   string_list_data  \\\n",
       "0       alysaxliu  [{'href': 'https://www.instagram.com/p/DNyPtSL...   \n",
       "1    tomisonline_  [{'href': 'https://www.instagram.com/p/DNxrNWB...   \n",
       "2    bigglowmuvva  [{'href': 'https://www.instagram.com/reel/DM8b...   \n",
       "3      imclarakim  [{'href': 'https://www.instagram.com/reel/DNo6...   \n",
       "4  piki__official  [{'href': 'https://www.instagram.com/reel/DNsm...   \n",
       "\n",
       "   Time of Like        Date of Like  \n",
       "0    1756145925 2025-08-25 14:18:45  \n",
       "1    1756134231 2025-08-25 11:03:51  \n",
       "2    1756130468 2025-08-25 10:01:08  \n",
       "3    1756130328 2025-08-25 09:58:48  \n",
       "4    1756129866 2025-08-25 09:51:06  "
      ]
     },
     "execution_count": 14,
     "metadata": {},
     "output_type": "execute_result"
    }
   ],
   "source": [
    "df_tidy.head()"
   ]
  },
  {
   "cell_type": "code",
   "execution_count": 15,
   "id": "f0db2f6a-f3c6-4efe-baec-eddaa31f443b",
   "metadata": {},
   "outputs": [],
   "source": [
    "df_tidy['Value'] = [ (i[0]['timestamp'] ) for i in df_tidy['string_list_data'] ]"
   ]
  },
  {
   "cell_type": "code",
   "execution_count": 16,
   "id": "06d7d3ec-0971-470a-86d1-391c3a80a729",
   "metadata": {},
   "outputs": [
    {
     "data": {
      "text/html": [
       "<div>\n",
       "<style scoped>\n",
       "    .dataframe tbody tr th:only-of-type {\n",
       "        vertical-align: middle;\n",
       "    }\n",
       "\n",
       "    .dataframe tbody tr th {\n",
       "        vertical-align: top;\n",
       "    }\n",
       "\n",
       "    .dataframe thead th {\n",
       "        text-align: right;\n",
       "    }\n",
       "</style>\n",
       "<table border=\"1\" class=\"dataframe\">\n",
       "  <thead>\n",
       "    <tr style=\"text-align: right;\">\n",
       "      <th></th>\n",
       "      <th>title</th>\n",
       "      <th>Time of Like</th>\n",
       "      <th>Date of Like</th>\n",
       "      <th>Value</th>\n",
       "    </tr>\n",
       "  </thead>\n",
       "  <tbody>\n",
       "    <tr>\n",
       "      <th>0</th>\n",
       "      <td>alysaxliu</td>\n",
       "      <td>1756145925</td>\n",
       "      <td>2025-08-25 14:18:45</td>\n",
       "      <td>1756145925</td>\n",
       "    </tr>\n",
       "    <tr>\n",
       "      <th>1</th>\n",
       "      <td>tomisonline_</td>\n",
       "      <td>1756134231</td>\n",
       "      <td>2025-08-25 11:03:51</td>\n",
       "      <td>1756134231</td>\n",
       "    </tr>\n",
       "    <tr>\n",
       "      <th>2</th>\n",
       "      <td>bigglowmuvva</td>\n",
       "      <td>1756130468</td>\n",
       "      <td>2025-08-25 10:01:08</td>\n",
       "      <td>1756130468</td>\n",
       "    </tr>\n",
       "    <tr>\n",
       "      <th>3</th>\n",
       "      <td>imclarakim</td>\n",
       "      <td>1756130328</td>\n",
       "      <td>2025-08-25 09:58:48</td>\n",
       "      <td>1756130328</td>\n",
       "    </tr>\n",
       "    <tr>\n",
       "      <th>4</th>\n",
       "      <td>piki__official</td>\n",
       "      <td>1756129866</td>\n",
       "      <td>2025-08-25 09:51:06</td>\n",
       "      <td>1756129866</td>\n",
       "    </tr>\n",
       "    <tr>\n",
       "      <th>...</th>\n",
       "      <td>...</td>\n",
       "      <td>...</td>\n",
       "      <td>...</td>\n",
       "      <td>...</td>\n",
       "    </tr>\n",
       "    <tr>\n",
       "      <th>3874</th>\n",
       "      <td>mikou_cosplay</td>\n",
       "      <td>1724617952</td>\n",
       "      <td>2024-08-25 16:32:32</td>\n",
       "      <td>1724617952</td>\n",
       "    </tr>\n",
       "    <tr>\n",
       "      <th>3875</th>\n",
       "      <td>907x109</td>\n",
       "      <td>1724617948</td>\n",
       "      <td>2024-08-25 16:32:28</td>\n",
       "      <td>1724617948</td>\n",
       "    </tr>\n",
       "    <tr>\n",
       "      <th>3876</th>\n",
       "      <td>ksucosplayclub</td>\n",
       "      <td>1724617794</td>\n",
       "      <td>2024-08-25 16:29:54</td>\n",
       "      <td>1724617794</td>\n",
       "    </tr>\n",
       "    <tr>\n",
       "      <th>3877</th>\n",
       "      <td>dokidokicosplay_official</td>\n",
       "      <td>1724614133</td>\n",
       "      <td>2024-08-25 15:28:53</td>\n",
       "      <td>1724614133</td>\n",
       "    </tr>\n",
       "    <tr>\n",
       "      <th>3878</th>\n",
       "      <td>wholewheatpeet</td>\n",
       "      <td>1724611329</td>\n",
       "      <td>2024-08-25 14:42:09</td>\n",
       "      <td>1724611329</td>\n",
       "    </tr>\n",
       "  </tbody>\n",
       "</table>\n",
       "<p>3879 rows × 4 columns</p>\n",
       "</div>"
      ],
      "text/plain": [
       "                         title  Time of Like        Date of Like       Value\n",
       "0                    alysaxliu    1756145925 2025-08-25 14:18:45  1756145925\n",
       "1                 tomisonline_    1756134231 2025-08-25 11:03:51  1756134231\n",
       "2                 bigglowmuvva    1756130468 2025-08-25 10:01:08  1756130468\n",
       "3                   imclarakim    1756130328 2025-08-25 09:58:48  1756130328\n",
       "4               piki__official    1756129866 2025-08-25 09:51:06  1756129866\n",
       "...                        ...           ...                 ...         ...\n",
       "3874             mikou_cosplay    1724617952 2024-08-25 16:32:32  1724617952\n",
       "3875                   907x109    1724617948 2024-08-25 16:32:28  1724617948\n",
       "3876            ksucosplayclub    1724617794 2024-08-25 16:29:54  1724617794\n",
       "3877  dokidokicosplay_official    1724614133 2024-08-25 15:28:53  1724614133\n",
       "3878            wholewheatpeet    1724611329 2024-08-25 14:42:09  1724611329\n",
       "\n",
       "[3879 rows x 4 columns]"
      ]
     },
     "execution_count": 16,
     "metadata": {},
     "output_type": "execute_result"
    }
   ],
   "source": [
    "df_tidy.drop(columns = ['string_list_data'])"
   ]
  },
  {
   "cell_type": "markdown",
   "id": "8e43e994-4e91-4dee-a57b-9592b77d41f7",
   "metadata": {},
   "source": [
    "## Start of Section 5"
   ]
  },
  {
   "cell_type": "code",
   "execution_count": 17,
   "id": "0e107619-3350-4b7c-89a3-44889796de23",
   "metadata": {},
   "outputs": [
    {
     "data": {
      "text/html": [
       "<div>\n",
       "<style scoped>\n",
       "    .dataframe tbody tr th:only-of-type {\n",
       "        vertical-align: middle;\n",
       "    }\n",
       "\n",
       "    .dataframe tbody tr th {\n",
       "        vertical-align: top;\n",
       "    }\n",
       "\n",
       "    .dataframe thead th {\n",
       "        text-align: right;\n",
       "    }\n",
       "</style>\n",
       "<table border=\"1\" class=\"dataframe\">\n",
       "  <thead>\n",
       "    <tr style=\"text-align: right;\">\n",
       "      <th></th>\n",
       "      <th>string_list_data</th>\n",
       "      <th>Time of Like</th>\n",
       "      <th>Date of Like</th>\n",
       "      <th>Value</th>\n",
       "    </tr>\n",
       "    <tr>\n",
       "      <th>title</th>\n",
       "      <th></th>\n",
       "      <th></th>\n",
       "      <th></th>\n",
       "      <th></th>\n",
       "    </tr>\n",
       "  </thead>\n",
       "  <tbody>\n",
       "    <tr>\n",
       "      <th>0906yurin</th>\n",
       "      <td>1</td>\n",
       "      <td>1</td>\n",
       "      <td>1</td>\n",
       "      <td>1</td>\n",
       "    </tr>\n",
       "    <tr>\n",
       "      <th>momoiiroo</th>\n",
       "      <td>1</td>\n",
       "      <td>1</td>\n",
       "      <td>1</td>\n",
       "      <td>1</td>\n",
       "    </tr>\n",
       "    <tr>\n",
       "      <th>moonlight_opera</th>\n",
       "      <td>1</td>\n",
       "      <td>1</td>\n",
       "      <td>1</td>\n",
       "      <td>1</td>\n",
       "    </tr>\n",
       "    <tr>\n",
       "      <th>moonmajora</th>\n",
       "      <td>1</td>\n",
       "      <td>1</td>\n",
       "      <td>1</td>\n",
       "      <td>1</td>\n",
       "    </tr>\n",
       "    <tr>\n",
       "      <th>mrlnbrtz</th>\n",
       "      <td>1</td>\n",
       "      <td>1</td>\n",
       "      <td>1</td>\n",
       "      <td>1</td>\n",
       "    </tr>\n",
       "    <tr>\n",
       "      <th>...</th>\n",
       "      <td>...</td>\n",
       "      <td>...</td>\n",
       "      <td>...</td>\n",
       "      <td>...</td>\n",
       "    </tr>\n",
       "    <tr>\n",
       "      <th>pokemon</th>\n",
       "      <td>68</td>\n",
       "      <td>68</td>\n",
       "      <td>68</td>\n",
       "      <td>68</td>\n",
       "    </tr>\n",
       "    <tr>\n",
       "      <th>woocasboocas</th>\n",
       "      <td>70</td>\n",
       "      <td>70</td>\n",
       "      <td>70</td>\n",
       "      <td>70</td>\n",
       "    </tr>\n",
       "    <tr>\n",
       "      <th>usfigureskating</th>\n",
       "      <td>72</td>\n",
       "      <td>72</td>\n",
       "      <td>72</td>\n",
       "      <td>72</td>\n",
       "    </tr>\n",
       "    <tr>\n",
       "      <th>derestage</th>\n",
       "      <td>89</td>\n",
       "      <td>89</td>\n",
       "      <td>89</td>\n",
       "      <td>89</td>\n",
       "    </tr>\n",
       "    <tr>\n",
       "      <th>azul_crescent</th>\n",
       "      <td>137</td>\n",
       "      <td>137</td>\n",
       "      <td>137</td>\n",
       "      <td>137</td>\n",
       "    </tr>\n",
       "  </tbody>\n",
       "</table>\n",
       "<p>1071 rows × 4 columns</p>\n",
       "</div>"
      ],
      "text/plain": [
       "                 string_list_data  Time of Like  Date of Like  Value\n",
       "title                                                               \n",
       "0906yurin                       1             1             1      1\n",
       "momoiiroo                       1             1             1      1\n",
       "moonlight_opera                 1             1             1      1\n",
       "moonmajora                      1             1             1      1\n",
       "mrlnbrtz                        1             1             1      1\n",
       "...                           ...           ...           ...    ...\n",
       "pokemon                        68            68            68     68\n",
       "woocasboocas                   70            70            70     70\n",
       "usfigureskating                72            72            72     72\n",
       "derestage                      89            89            89     89\n",
       "azul_crescent                 137           137           137    137\n",
       "\n",
       "[1071 rows x 4 columns]"
      ]
     },
     "execution_count": 17,
     "metadata": {},
     "output_type": "execute_result"
    }
   ],
   "source": [
    "df_tidy.groupby('title').count().sort_values('Value', ascending = True)"
   ]
  },
  {
   "cell_type": "markdown",
   "id": "a728ca2d-fec7-42c9-8014-d45b2f8d2525",
   "metadata": {},
   "source": [
    "## Start of Section 6"
   ]
  },
  {
   "cell_type": "markdown",
   "id": "5595da92-63aa-4830-ba54-59a849e68f41",
   "metadata": {},
   "source": [
    "### Hypothesis"
   ]
  },
  {
   "cell_type": "markdown",
   "id": "28b8c465-b8b9-4348-bca4-00434a9ba642",
   "metadata": {},
   "source": [
    "The amount of posts and stories that are liked has increasecd noticably in the past 4 months capared to the past year"
   ]
  },
  {
   "cell_type": "markdown",
   "id": "3eba0d1f-b165-4a30-9dc6-275cb904d3cc",
   "metadata": {},
   "source": [
    "## Rationale"
   ]
  },
  {
   "cell_type": "markdown",
   "id": "361f5e19-5adf-4758-92ac-b9829797c204",
   "metadata": {},
   "source": [
    "Due to having an increace in the amount of free time due to summer in addition to going out with friends more will lead to a greater amount of post liked due to how much time and quantity of post are avaliable."
   ]
  },
  {
   "cell_type": "markdown",
   "id": "5cc6c283-98fe-4d4f-887d-b60b48bd16d3",
   "metadata": {},
   "source": [
    "## Measured Variables"
   ]
  },
  {
   "cell_type": "markdown",
   "id": "18be24de-502d-45b9-9f6c-c9df15bd3337",
   "metadata": {},
   "source": [
    "The \"time of like\" the \"date of like\""
   ]
  },
  {
   "cell_type": "markdown",
   "id": "2fc3135a-0ee5-40f9-a578-d2d37efda5a8",
   "metadata": {},
   "source": [
    "## Start Of Section 7"
   ]
  },
  {
   "cell_type": "markdown",
   "id": "8ddaff9b-71aa-4f47-b21f-fd8b61e62ba2",
   "metadata": {},
   "source": [
    "## Measured File"
   ]
  },
  {
   "cell_type": "markdown",
   "id": "5dee282d-7a1e-495d-afe6-1b6444f020f0",
   "metadata": {},
   "source": [
    "Story_Likes"
   ]
  },
  {
   "cell_type": "markdown",
   "id": "b5198230-6762-4354-9715-355351c62cfd",
   "metadata": {},
   "source": [
    "## Reasoning"
   ]
  },
  {
   "cell_type": "markdown",
   "id": "2b94c6a9-ac99-4bfb-8690-665dd7242639",
   "metadata": {},
   "source": [
    "In adition to seeing the amount of posts that are liked, it would also help to see the amount of likes that affect stories to supplement the preivously achieved info."
   ]
  },
  {
   "cell_type": "markdown",
   "id": "29e9f97e-2693-4b57-94a0-e7267fc470ca",
   "metadata": {},
   "source": [
    "## Start Of Section 8"
   ]
  },
  {
   "cell_type": "code",
   "execution_count": 18,
   "id": "9241cffa-126e-438e-997c-eee6256c9342",
   "metadata": {},
   "outputs": [],
   "source": [
    "path = r\"C:\\Users\\xxzep\\OneDrive\\Desktop\\instagram-ariariariami-2025-08-25-nNvQWrZw\\your_instagram_activity\\story_interactions\\story_likes.json\"\n",
    "with open(path) as j:\n",
    "    dict = json.load(j)"
   ]
  },
  {
   "cell_type": "markdown",
   "id": "3d62e335-38b2-45a1-866e-9b6fc74ae903",
   "metadata": {},
   "source": [
    "## Start Of Section 9"
   ]
  },
  {
   "cell_type": "code",
   "execution_count": 19,
   "id": "1a94cf56-bca9-4652-863d-97e982dc9a94",
   "metadata": {},
   "outputs": [
    {
     "data": {
      "text/html": [
       "<div>\n",
       "<style scoped>\n",
       "    .dataframe tbody tr th:only-of-type {\n",
       "        vertical-align: middle;\n",
       "    }\n",
       "\n",
       "    .dataframe tbody tr th {\n",
       "        vertical-align: top;\n",
       "    }\n",
       "\n",
       "    .dataframe thead th {\n",
       "        text-align: right;\n",
       "    }\n",
       "</style>\n",
       "<table border=\"1\" class=\"dataframe\">\n",
       "  <thead>\n",
       "    <tr style=\"text-align: right;\">\n",
       "      <th></th>\n",
       "      <th>story_activities_story_likes</th>\n",
       "    </tr>\n",
       "  </thead>\n",
       "  <tbody>\n",
       "    <tr>\n",
       "      <th>0</th>\n",
       "      <td>{'title': '_orbie_draws_', 'string_list_data':...</td>\n",
       "    </tr>\n",
       "    <tr>\n",
       "      <th>1</th>\n",
       "      <td>{'title': 'interstellarsailor', 'string_list_d...</td>\n",
       "    </tr>\n",
       "    <tr>\n",
       "      <th>2</th>\n",
       "      <td>{'title': 'definitelynotnoah_', 'string_list_d...</td>\n",
       "    </tr>\n",
       "    <tr>\n",
       "      <th>3</th>\n",
       "      <td>{'title': 'crimson.frsh', 'string_list_data': ...</td>\n",
       "    </tr>\n",
       "    <tr>\n",
       "      <th>4</th>\n",
       "      <td>{'title': 'daijoubimasu', 'string_list_data': ...</td>\n",
       "    </tr>\n",
       "  </tbody>\n",
       "</table>\n",
       "</div>"
      ],
      "text/plain": [
       "                        story_activities_story_likes\n",
       "0  {'title': '_orbie_draws_', 'string_list_data':...\n",
       "1  {'title': 'interstellarsailor', 'string_list_d...\n",
       "2  {'title': 'definitelynotnoah_', 'string_list_d...\n",
       "3  {'title': 'crimson.frsh', 'string_list_data': ...\n",
       "4  {'title': 'daijoubimasu', 'string_list_data': ..."
      ]
     },
     "execution_count": 19,
     "metadata": {},
     "output_type": "execute_result"
    }
   ],
   "source": [
    "df = pd.DataFrame(dict)\n",
    "df.head()"
   ]
  },
  {
   "cell_type": "code",
   "execution_count": 20,
   "id": "a55ada52-31fe-417f-8b91-8b9fb0b1c61b",
   "metadata": {},
   "outputs": [
    {
     "data": {
      "text/plain": [
       "dict_keys(['story_activities_story_likes'])"
      ]
     },
     "execution_count": 20,
     "metadata": {},
     "output_type": "execute_result"
    }
   ],
   "source": [
    "dict.keys()"
   ]
  },
  {
   "cell_type": "code",
   "execution_count": 21,
   "id": "59616a62-4716-4501-8329-bd3f6ccef759",
   "metadata": {},
   "outputs": [
    {
     "data": {
      "text/html": [
       "<div>\n",
       "<style scoped>\n",
       "    .dataframe tbody tr th:only-of-type {\n",
       "        vertical-align: middle;\n",
       "    }\n",
       "\n",
       "    .dataframe tbody tr th {\n",
       "        vertical-align: top;\n",
       "    }\n",
       "\n",
       "    .dataframe thead th {\n",
       "        text-align: right;\n",
       "    }\n",
       "</style>\n",
       "<table border=\"1\" class=\"dataframe\">\n",
       "  <thead>\n",
       "    <tr style=\"text-align: right;\">\n",
       "      <th></th>\n",
       "      <th>title</th>\n",
       "      <th>string_list_data</th>\n",
       "    </tr>\n",
       "  </thead>\n",
       "  <tbody>\n",
       "    <tr>\n",
       "      <th>0</th>\n",
       "      <td>_orbie_draws_</td>\n",
       "      <td>[{'timestamp': 1756144689}]</td>\n",
       "    </tr>\n",
       "    <tr>\n",
       "      <th>1</th>\n",
       "      <td>interstellarsailor</td>\n",
       "      <td>[{'timestamp': 1756144617}]</td>\n",
       "    </tr>\n",
       "    <tr>\n",
       "      <th>2</th>\n",
       "      <td>definitelynotnoah_</td>\n",
       "      <td>[{'timestamp': 1756144613}]</td>\n",
       "    </tr>\n",
       "    <tr>\n",
       "      <th>3</th>\n",
       "      <td>crimson.frsh</td>\n",
       "      <td>[{'timestamp': 1756144611}]</td>\n",
       "    </tr>\n",
       "    <tr>\n",
       "      <th>4</th>\n",
       "      <td>daijoubimasu</td>\n",
       "      <td>[{'timestamp': 1756144598}]</td>\n",
       "    </tr>\n",
       "  </tbody>\n",
       "</table>\n",
       "</div>"
      ],
      "text/plain": [
       "                title             string_list_data\n",
       "0       _orbie_draws_  [{'timestamp': 1756144689}]\n",
       "1  interstellarsailor  [{'timestamp': 1756144617}]\n",
       "2  definitelynotnoah_  [{'timestamp': 1756144613}]\n",
       "3        crimson.frsh  [{'timestamp': 1756144611}]\n",
       "4        daijoubimasu  [{'timestamp': 1756144598}]"
      ]
     },
     "execution_count": 21,
     "metadata": {},
     "output_type": "execute_result"
    }
   ],
   "source": [
    "df_tidy = pd.DataFrame(dict['story_activities_story_likes'])\n",
    "df_tidy.head()"
   ]
  },
  {
   "cell_type": "code",
   "execution_count": 22,
   "id": "6e96a6a1-bfe5-49bf-93b8-b6e24a49ff83",
   "metadata": {},
   "outputs": [
    {
     "data": {
      "text/plain": [
       "[{'timestamp': 1756144689}]"
      ]
     },
     "execution_count": 22,
     "metadata": {},
     "output_type": "execute_result"
    }
   ],
   "source": [
    "df_tidy['string_list_data'].iloc[0]"
   ]
  },
  {
   "cell_type": "code",
   "execution_count": 23,
   "id": "13dd3b4a-d3e8-4925-903a-e62f1d473ad0",
   "metadata": {},
   "outputs": [
    {
     "data": {
      "text/plain": [
       "list"
      ]
     },
     "execution_count": 23,
     "metadata": {},
     "output_type": "execute_result"
    }
   ],
   "source": [
    "type(df_tidy['string_list_data'].iloc[0])"
   ]
  },
  {
   "cell_type": "code",
   "execution_count": 24,
   "id": "9843debf-ccbd-44ce-a8eb-e83df65a750f",
   "metadata": {},
   "outputs": [
    {
     "data": {
      "text/plain": [
       "1"
      ]
     },
     "execution_count": 24,
     "metadata": {},
     "output_type": "execute_result"
    }
   ],
   "source": [
    "len(df_tidy['string_list_data'].iloc[0])"
   ]
  },
  {
   "cell_type": "code",
   "execution_count": 25,
   "id": "c107a947-f9b9-46f2-a36a-722723b2895d",
   "metadata": {},
   "outputs": [
    {
     "data": {
      "text/plain": [
       "{'timestamp': 1756144689}"
      ]
     },
     "execution_count": 25,
     "metadata": {},
     "output_type": "execute_result"
    }
   ],
   "source": [
    "df_tidy['string_list_data'].iloc[0][0]"
   ]
  },
  {
   "cell_type": "code",
   "execution_count": 26,
   "id": "c7922b12-6797-4d66-888f-18e3924f751d",
   "metadata": {},
   "outputs": [
    {
     "data": {
      "text/plain": [
       "1756144689"
      ]
     },
     "execution_count": 26,
     "metadata": {},
     "output_type": "execute_result"
    }
   ],
   "source": [
    "df_tidy['string_list_data'].iloc[0][0]['timestamp']"
   ]
  },
  {
   "cell_type": "code",
   "execution_count": 27,
   "id": "69e49e0d-b393-4119-b6b3-5b87d7ddc8d6",
   "metadata": {},
   "outputs": [
    {
     "data": {
      "text/html": [
       "<div>\n",
       "<style scoped>\n",
       "    .dataframe tbody tr th:only-of-type {\n",
       "        vertical-align: middle;\n",
       "    }\n",
       "\n",
       "    .dataframe tbody tr th {\n",
       "        vertical-align: top;\n",
       "    }\n",
       "\n",
       "    .dataframe thead th {\n",
       "        text-align: right;\n",
       "    }\n",
       "</style>\n",
       "<table border=\"1\" class=\"dataframe\">\n",
       "  <thead>\n",
       "    <tr style=\"text-align: right;\">\n",
       "      <th></th>\n",
       "      <th>title</th>\n",
       "      <th>string_list_data</th>\n",
       "      <th>Time of Like</th>\n",
       "    </tr>\n",
       "  </thead>\n",
       "  <tbody>\n",
       "    <tr>\n",
       "      <th>0</th>\n",
       "      <td>_orbie_draws_</td>\n",
       "      <td>[{'timestamp': 1756144689}]</td>\n",
       "      <td>1756144689</td>\n",
       "    </tr>\n",
       "    <tr>\n",
       "      <th>1</th>\n",
       "      <td>interstellarsailor</td>\n",
       "      <td>[{'timestamp': 1756144617}]</td>\n",
       "      <td>1756144617</td>\n",
       "    </tr>\n",
       "    <tr>\n",
       "      <th>2</th>\n",
       "      <td>definitelynotnoah_</td>\n",
       "      <td>[{'timestamp': 1756144613}]</td>\n",
       "      <td>1756144613</td>\n",
       "    </tr>\n",
       "    <tr>\n",
       "      <th>3</th>\n",
       "      <td>crimson.frsh</td>\n",
       "      <td>[{'timestamp': 1756144611}]</td>\n",
       "      <td>1756144611</td>\n",
       "    </tr>\n",
       "    <tr>\n",
       "      <th>4</th>\n",
       "      <td>daijoubimasu</td>\n",
       "      <td>[{'timestamp': 1756144598}]</td>\n",
       "      <td>1756144598</td>\n",
       "    </tr>\n",
       "  </tbody>\n",
       "</table>\n",
       "</div>"
      ],
      "text/plain": [
       "                title             string_list_data  Time of Like\n",
       "0       _orbie_draws_  [{'timestamp': 1756144689}]    1756144689\n",
       "1  interstellarsailor  [{'timestamp': 1756144617}]    1756144617\n",
       "2  definitelynotnoah_  [{'timestamp': 1756144613}]    1756144613\n",
       "3        crimson.frsh  [{'timestamp': 1756144611}]    1756144611\n",
       "4        daijoubimasu  [{'timestamp': 1756144598}]    1756144598"
      ]
     },
     "execution_count": 27,
     "metadata": {},
     "output_type": "execute_result"
    }
   ],
   "source": [
    "df_tidy['Time of Like'] = [i[0]['timestamp'] for i in df_tidy['string_list_data'] ]\n",
    "\n",
    "df_tidy.head()"
   ]
  },
  {
   "cell_type": "code",
   "execution_count": 33,
   "id": "1c1af86f-3ddd-4e47-b285-f8f8603ae762",
   "metadata": {},
   "outputs": [
    {
     "data": {
      "text/html": [
       "<div>\n",
       "<style scoped>\n",
       "    .dataframe tbody tr th:only-of-type {\n",
       "        vertical-align: middle;\n",
       "    }\n",
       "\n",
       "    .dataframe tbody tr th {\n",
       "        vertical-align: top;\n",
       "    }\n",
       "\n",
       "    .dataframe thead th {\n",
       "        text-align: right;\n",
       "    }\n",
       "</style>\n",
       "<table border=\"1\" class=\"dataframe\">\n",
       "  <thead>\n",
       "    <tr style=\"text-align: right;\">\n",
       "      <th></th>\n",
       "      <th>title</th>\n",
       "      <th>string_list_data</th>\n",
       "      <th>Time of Like</th>\n",
       "      <th>Value</th>\n",
       "      <th>Date of Like</th>\n",
       "    </tr>\n",
       "  </thead>\n",
       "  <tbody>\n",
       "    <tr>\n",
       "      <th>0</th>\n",
       "      <td>_orbie_draws_</td>\n",
       "      <td>[{'timestamp': 1756144689}]</td>\n",
       "      <td>1756144689</td>\n",
       "      <td>1756144689</td>\n",
       "      <td>2025-08-25 13:58:09</td>\n",
       "    </tr>\n",
       "    <tr>\n",
       "      <th>1</th>\n",
       "      <td>interstellarsailor</td>\n",
       "      <td>[{'timestamp': 1756144617}]</td>\n",
       "      <td>1756144617</td>\n",
       "      <td>1756144617</td>\n",
       "      <td>2025-08-25 13:56:57</td>\n",
       "    </tr>\n",
       "    <tr>\n",
       "      <th>2</th>\n",
       "      <td>definitelynotnoah_</td>\n",
       "      <td>[{'timestamp': 1756144613}]</td>\n",
       "      <td>1756144613</td>\n",
       "      <td>1756144613</td>\n",
       "      <td>2025-08-25 13:56:53</td>\n",
       "    </tr>\n",
       "    <tr>\n",
       "      <th>3</th>\n",
       "      <td>crimson.frsh</td>\n",
       "      <td>[{'timestamp': 1756144611}]</td>\n",
       "      <td>1756144611</td>\n",
       "      <td>1756144611</td>\n",
       "      <td>2025-08-25 13:56:51</td>\n",
       "    </tr>\n",
       "    <tr>\n",
       "      <th>4</th>\n",
       "      <td>daijoubimasu</td>\n",
       "      <td>[{'timestamp': 1756144598}]</td>\n",
       "      <td>1756144598</td>\n",
       "      <td>1756144598</td>\n",
       "      <td>2025-08-25 13:56:38</td>\n",
       "    </tr>\n",
       "  </tbody>\n",
       "</table>\n",
       "</div>"
      ],
      "text/plain": [
       "                title             string_list_data  Time of Like       Value  \\\n",
       "0       _orbie_draws_  [{'timestamp': 1756144689}]    1756144689  1756144689   \n",
       "1  interstellarsailor  [{'timestamp': 1756144617}]    1756144617  1756144617   \n",
       "2  definitelynotnoah_  [{'timestamp': 1756144613}]    1756144613  1756144613   \n",
       "3        crimson.frsh  [{'timestamp': 1756144611}]    1756144611  1756144611   \n",
       "4        daijoubimasu  [{'timestamp': 1756144598}]    1756144598  1756144598   \n",
       "\n",
       "         Date of Like  \n",
       "0 2025-08-25 13:58:09  \n",
       "1 2025-08-25 13:56:57  \n",
       "2 2025-08-25 13:56:53  \n",
       "3 2025-08-25 13:56:51  \n",
       "4 2025-08-25 13:56:38  "
      ]
     },
     "execution_count": 33,
     "metadata": {},
     "output_type": "execute_result"
    }
   ],
   "source": [
    "df_tidy['Date of Like'] = [ datetime.fromtimestamp(i[0]['timestamp'] ) for i in df_tidy['string_list_data'] ]\n",
    "df_tidy.head()"
   ]
  },
  {
   "cell_type": "code",
   "execution_count": 29,
   "id": "7ea7dfb0-1589-401c-9200-d28b5b5e8c65",
   "metadata": {},
   "outputs": [],
   "source": [
    "df_tidy['Value'] = [ (i[0]['timestamp'] ) for i in df_tidy['string_list_data'] ]"
   ]
  },
  {
   "cell_type": "code",
   "execution_count": 34,
   "id": "6f3ff601-0e65-46d3-ae90-56eb7ffb5271",
   "metadata": {},
   "outputs": [
    {
     "data": {
      "text/html": [
       "<div>\n",
       "<style scoped>\n",
       "    .dataframe tbody tr th:only-of-type {\n",
       "        vertical-align: middle;\n",
       "    }\n",
       "\n",
       "    .dataframe tbody tr th {\n",
       "        vertical-align: top;\n",
       "    }\n",
       "\n",
       "    .dataframe thead th {\n",
       "        text-align: right;\n",
       "    }\n",
       "</style>\n",
       "<table border=\"1\" class=\"dataframe\">\n",
       "  <thead>\n",
       "    <tr style=\"text-align: right;\">\n",
       "      <th></th>\n",
       "      <th>title</th>\n",
       "      <th>Time of Like</th>\n",
       "      <th>Value</th>\n",
       "      <th>Date of Like</th>\n",
       "    </tr>\n",
       "  </thead>\n",
       "  <tbody>\n",
       "    <tr>\n",
       "      <th>0</th>\n",
       "      <td>_orbie_draws_</td>\n",
       "      <td>1756144689</td>\n",
       "      <td>1756144689</td>\n",
       "      <td>2025-08-25 13:58:09</td>\n",
       "    </tr>\n",
       "    <tr>\n",
       "      <th>1</th>\n",
       "      <td>interstellarsailor</td>\n",
       "      <td>1756144617</td>\n",
       "      <td>1756144617</td>\n",
       "      <td>2025-08-25 13:56:57</td>\n",
       "    </tr>\n",
       "    <tr>\n",
       "      <th>2</th>\n",
       "      <td>definitelynotnoah_</td>\n",
       "      <td>1756144613</td>\n",
       "      <td>1756144613</td>\n",
       "      <td>2025-08-25 13:56:53</td>\n",
       "    </tr>\n",
       "    <tr>\n",
       "      <th>3</th>\n",
       "      <td>crimson.frsh</td>\n",
       "      <td>1756144611</td>\n",
       "      <td>1756144611</td>\n",
       "      <td>2025-08-25 13:56:51</td>\n",
       "    </tr>\n",
       "    <tr>\n",
       "      <th>4</th>\n",
       "      <td>daijoubimasu</td>\n",
       "      <td>1756144598</td>\n",
       "      <td>1756144598</td>\n",
       "      <td>2025-08-25 13:56:38</td>\n",
       "    </tr>\n",
       "    <tr>\n",
       "      <th>...</th>\n",
       "      <td>...</td>\n",
       "      <td>...</td>\n",
       "      <td>...</td>\n",
       "      <td>...</td>\n",
       "    </tr>\n",
       "    <tr>\n",
       "      <th>1119</th>\n",
       "      <td>peopleinthedaytime</td>\n",
       "      <td>1724716105</td>\n",
       "      <td>1724716105</td>\n",
       "      <td>2024-08-26 19:48:25</td>\n",
       "    </tr>\n",
       "    <tr>\n",
       "      <th>1120</th>\n",
       "      <td>woocasboocas</td>\n",
       "      <td>1724714138</td>\n",
       "      <td>1724714138</td>\n",
       "      <td>2024-08-26 19:15:38</td>\n",
       "    </tr>\n",
       "    <tr>\n",
       "      <th>1121</th>\n",
       "      <td>h_srmts</td>\n",
       "      <td>1724714135</td>\n",
       "      <td>1724714135</td>\n",
       "      <td>2024-08-26 19:15:35</td>\n",
       "    </tr>\n",
       "    <tr>\n",
       "      <th>1122</th>\n",
       "      <td>gyokuo1007</td>\n",
       "      <td>1724712071</td>\n",
       "      <td>1724712071</td>\n",
       "      <td>2024-08-26 18:41:11</td>\n",
       "    </tr>\n",
       "    <tr>\n",
       "      <th>1123</th>\n",
       "      <td>lance.verr</td>\n",
       "      <td>1724710823</td>\n",
       "      <td>1724710823</td>\n",
       "      <td>2024-08-26 18:20:23</td>\n",
       "    </tr>\n",
       "  </tbody>\n",
       "</table>\n",
       "<p>1124 rows × 4 columns</p>\n",
       "</div>"
      ],
      "text/plain": [
       "                   title  Time of Like       Value        Date of Like\n",
       "0          _orbie_draws_    1756144689  1756144689 2025-08-25 13:58:09\n",
       "1     interstellarsailor    1756144617  1756144617 2025-08-25 13:56:57\n",
       "2     definitelynotnoah_    1756144613  1756144613 2025-08-25 13:56:53\n",
       "3           crimson.frsh    1756144611  1756144611 2025-08-25 13:56:51\n",
       "4           daijoubimasu    1756144598  1756144598 2025-08-25 13:56:38\n",
       "...                  ...           ...         ...                 ...\n",
       "1119  peopleinthedaytime    1724716105  1724716105 2024-08-26 19:48:25\n",
       "1120        woocasboocas    1724714138  1724714138 2024-08-26 19:15:38\n",
       "1121             h_srmts    1724714135  1724714135 2024-08-26 19:15:35\n",
       "1122          gyokuo1007    1724712071  1724712071 2024-08-26 18:41:11\n",
       "1123          lance.verr    1724710823  1724710823 2024-08-26 18:20:23\n",
       "\n",
       "[1124 rows x 4 columns]"
      ]
     },
     "execution_count": 34,
     "metadata": {},
     "output_type": "execute_result"
    }
   ],
   "source": [
    "df_tidy.drop(columns = ['string_list_data'])"
   ]
  },
  {
   "cell_type": "code",
   "execution_count": 35,
   "id": "e37ccc95-07ed-4aea-aee5-f8358f488348",
   "metadata": {},
   "outputs": [
    {
     "data": {
      "text/html": [
       "<div>\n",
       "<style scoped>\n",
       "    .dataframe tbody tr th:only-of-type {\n",
       "        vertical-align: middle;\n",
       "    }\n",
       "\n",
       "    .dataframe tbody tr th {\n",
       "        vertical-align: top;\n",
       "    }\n",
       "\n",
       "    .dataframe thead th {\n",
       "        text-align: right;\n",
       "    }\n",
       "</style>\n",
       "<table border=\"1\" class=\"dataframe\">\n",
       "  <thead>\n",
       "    <tr style=\"text-align: right;\">\n",
       "      <th></th>\n",
       "      <th>string_list_data</th>\n",
       "      <th>Time of Like</th>\n",
       "      <th>Value</th>\n",
       "      <th>Date of Like</th>\n",
       "    </tr>\n",
       "    <tr>\n",
       "      <th>title</th>\n",
       "      <th></th>\n",
       "      <th></th>\n",
       "      <th></th>\n",
       "      <th></th>\n",
       "    </tr>\n",
       "  </thead>\n",
       "  <tbody>\n",
       "    <tr>\n",
       "      <th>zildjiancompany</th>\n",
       "      <td>1</td>\n",
       "      <td>1</td>\n",
       "      <td>1</td>\n",
       "      <td>1</td>\n",
       "    </tr>\n",
       "    <tr>\n",
       "      <th>teamkaori_sakamoto</th>\n",
       "      <td>1</td>\n",
       "      <td>1</td>\n",
       "      <td>1</td>\n",
       "      <td>1</td>\n",
       "    </tr>\n",
       "    <tr>\n",
       "      <th>ha_na_bie_</th>\n",
       "      <td>1</td>\n",
       "      <td>1</td>\n",
       "      <td>1</td>\n",
       "      <td>1</td>\n",
       "    </tr>\n",
       "    <tr>\n",
       "      <th>tamarajones1123</th>\n",
       "      <td>1</td>\n",
       "      <td>1</td>\n",
       "      <td>1</td>\n",
       "      <td>1</td>\n",
       "    </tr>\n",
       "    <tr>\n",
       "      <th>im.a.salty.pretzel</th>\n",
       "      <td>1</td>\n",
       "      <td>1</td>\n",
       "      <td>1</td>\n",
       "      <td>1</td>\n",
       "    </tr>\n",
       "    <tr>\n",
       "      <th>...</th>\n",
       "      <td>...</td>\n",
       "      <td>...</td>\n",
       "      <td>...</td>\n",
       "      <td>...</td>\n",
       "    </tr>\n",
       "    <tr>\n",
       "      <th>crimson.frsh</th>\n",
       "      <td>41</td>\n",
       "      <td>41</td>\n",
       "      <td>41</td>\n",
       "      <td>41</td>\n",
       "    </tr>\n",
       "    <tr>\n",
       "      <th>amberglenniceskater</th>\n",
       "      <td>54</td>\n",
       "      <td>54</td>\n",
       "      <td>54</td>\n",
       "      <td>54</td>\n",
       "    </tr>\n",
       "    <tr>\n",
       "      <th>h_srmts</th>\n",
       "      <td>58</td>\n",
       "      <td>58</td>\n",
       "      <td>58</td>\n",
       "      <td>58</td>\n",
       "    </tr>\n",
       "    <tr>\n",
       "      <th>daijoubimasu</th>\n",
       "      <td>106</td>\n",
       "      <td>106</td>\n",
       "      <td>106</td>\n",
       "      <td>106</td>\n",
       "    </tr>\n",
       "    <tr>\n",
       "      <th>woocasboocas</th>\n",
       "      <td>210</td>\n",
       "      <td>210</td>\n",
       "      <td>210</td>\n",
       "      <td>210</td>\n",
       "    </tr>\n",
       "  </tbody>\n",
       "</table>\n",
       "<p>117 rows × 4 columns</p>\n",
       "</div>"
      ],
      "text/plain": [
       "                     string_list_data  Time of Like  Value  Date of Like\n",
       "title                                                                   \n",
       "zildjiancompany                     1             1      1             1\n",
       "teamkaori_sakamoto                  1             1      1             1\n",
       "ha_na_bie_                          1             1      1             1\n",
       "tamarajones1123                     1             1      1             1\n",
       "im.a.salty.pretzel                  1             1      1             1\n",
       "...                               ...           ...    ...           ...\n",
       "crimson.frsh                       41            41     41            41\n",
       "amberglenniceskater                54            54     54            54\n",
       "h_srmts                            58            58     58            58\n",
       "daijoubimasu                      106           106    106           106\n",
       "woocasboocas                      210           210    210           210\n",
       "\n",
       "[117 rows x 4 columns]"
      ]
     },
     "execution_count": 35,
     "metadata": {},
     "output_type": "execute_result"
    }
   ],
   "source": [
    "df_tidy.groupby('title').count().sort_values('Value', ascending = True)"
   ]
  },
  {
   "cell_type": "markdown",
   "id": "9736cd4a-66f0-457e-aab9-c5a14279205c",
   "metadata": {},
   "source": [
    "## Start of Section 10"
   ]
  },
  {
   "cell_type": "markdown",
   "id": "bb421d15-3b56-43fe-8dab-a6f3db1169cc",
   "metadata": {},
   "source": [
    "### Data Representaion "
   ]
  },
  {
   "cell_type": "markdown",
   "id": "e6bcdebe-9239-4de0-babd-2ec71c3a1f9a",
   "metadata": {},
   "source": [
    "This data makes an attempt to see when each post was liked and how often they were liked"
   ]
  },
  {
   "cell_type": "markdown",
   "id": "3026e964-c703-466a-add8-4d4370115a5e",
   "metadata": {},
   "source": [
    "### Is it tidy?"
   ]
  },
  {
   "cell_type": "markdown",
   "id": "e2edac2f-0feb-4cdc-b344-f4c29d0f2b61",
   "metadata": {},
   "source": [
    "No, As much as I tried i felt like i hit roadblocks and wasn't entirely able to figure out how to clean it up. later attempts to put the information in grid form were meet with error codes that caused it to be scraped."
   ]
  },
  {
   "cell_type": "markdown",
   "id": "2d9b8298-920c-4236-abf6-674924342ee0",
   "metadata": {},
   "source": [
    "### Is it testable?"
   ]
  },
  {
   "cell_type": "markdown",
   "id": "e7f97875-d818-4ef2-ae9c-de87fd166d4f",
   "metadata": {},
   "source": [
    "No, because the information remains unclear and unorganized it means that some of the information cannot be used due to it not providing a clear picture of what the data is supossed to represent"
   ]
  },
  {
   "cell_type": "code",
   "execution_count": null,
   "id": "d5585efe-8c0f-44cf-8058-d98e141d65c2",
   "metadata": {},
   "outputs": [],
   "source": []
  }
 ],
 "metadata": {
  "kernelspec": {
   "display_name": "Python 3 (ipykernel)",
   "language": "python",
   "name": "python3"
  },
  "language_info": {
   "codemirror_mode": {
    "name": "ipython",
    "version": 3
   },
   "file_extension": ".py",
   "mimetype": "text/x-python",
   "name": "python",
   "nbconvert_exporter": "python",
   "pygments_lexer": "ipython3",
   "version": "3.12.11"
  }
 },
 "nbformat": 4,
 "nbformat_minor": 5
}
